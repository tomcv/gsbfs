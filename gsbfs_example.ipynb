{
 "cells": [
  {
   "cell_type": "markdown",
   "id": "be8768da",
   "metadata": {},
   "source": [
    "### Setup"
   ]
  },
  {
   "cell_type": "code",
   "execution_count": 27,
   "id": "21f51ffc",
   "metadata": {},
   "outputs": [],
   "source": [
    "# imports\n",
    "import numpy as np\n",
    "from sklearn.datasets import make_classification\n",
    "from sklearn.metrics import classification_report\n",
    "from gsbfs.gsbfs import gso_rank, gso_boruta_select, get_expected_hits\n",
    "# make this notebook's output stable across runs\n",
    "np.random.seed(42)"
   ]
  },
  {
   "cell_type": "markdown",
   "id": "cb77fe69",
   "metadata": {},
   "source": [
    "### Feature Ranking\n",
    "Let us create a data set consisting of 50 features, including only 10 informative features, and 5000 observations. The features will be ranked using the gso_rank() function."
   ]
  },
  {
   "cell_type": "code",
   "execution_count": 28,
   "id": "4f1be510",
   "metadata": {},
   "outputs": [
    {
     "name": "stdout",
     "output_type": "stream",
     "text": [
      "Ranked Features (total=50, informative=[0,9]):\n",
      "[ 8  3  9  0  4  5  2  6 39 40  7 19  1 26 46 34 42 13 24 44 27 12 15 32\n",
      " 31 36 20 17 49 28 38 35 48 37 21 41 22 47 11 25 10 14 23 30 16 18 33 43\n",
      " 45 29]\n"
     ]
    }
   ],
   "source": [
    "# create instances\n",
    "n_features = 50\n",
    "n_informative = 10\n",
    "X, y = make_classification(\n",
    "    n_samples=5000,\n",
    "    n_features=n_features,\n",
    "    n_informative=n_informative,\n",
    "    n_redundant=0,\n",
    "    n_repeated=0,\n",
    "    n_classes=3,\n",
    "    shuffle=False,  # preserve ordering. first columns = informative features\n",
    ")\n",
    "# shuffle instances\n",
    "p = np.random.permutation(y.size)\n",
    "X, y = X[p, :], y[p]\n",
    "# rank features\n",
    "ranked_indexes, cos_sq_max = gso_rank(X, y)\n",
    "print(f\"Ranked Features (total={n_features}, informative=[0,{n_informative-1}]):\")\n",
    "print(ranked_indexes)"
   ]
  },
  {
   "cell_type": "markdown",
   "id": "9c870b40",
   "metadata": {},
   "source": [
    "### Expected Hits\n",
    "The Boruta algorithm counts the number of \"hits\" for each feature. For instance, considering 20 trials and a PMF maximum probability of 0.5%, the get_expected_hits() function returns the number of hits to be selected."
   ]
  },
  {
   "cell_type": "code",
   "execution_count": 29,
   "id": "dd0303d3",
   "metadata": {},
   "outputs": [
    {
     "name": "stdout",
     "output_type": "stream",
     "text": [
      "Hits to be selected (n_trials=20, proba=0.5, pmf_max=0.005):\n",
      "[16 17 18 19 20]\n"
     ]
    }
   ],
   "source": [
    "n_trials = 20\n",
    "proba = 0.5\n",
    "pmf_max = 0.005\n",
    "rejected_hits, selected_hits = get_expected_hits(n_trials, proba, pmf_max)\n",
    "print(f\"Hits to be selected (n_trials={n_trials}, proba={proba}, pmf_max={pmf_max}):\")\n",
    "print(selected_hits)"
   ]
  },
  {
   "cell_type": "markdown",
   "id": "c7817b42",
   "metadata": {},
   "source": [
    "### Feature Selection\n",
    "Using the same data set consisting of 50 features, including only 10 informative features. Let us predict which features are informative using the gso_boruta_select() function (calling get_expected_hits() internally)."
   ]
  },
  {
   "cell_type": "code",
   "execution_count": 30,
   "id": "dac53937",
   "metadata": {},
   "outputs": [
    {
     "name": "stdout",
     "output_type": "stream",
     "text": [
      "Selected Features (total=50, informative=[0,9]):\n",
      "[0 2 3 4 5 6 8 9]\n"
     ]
    }
   ],
   "source": [
    "# select features\n",
    "rejected_indexes, selected_indexes, indecisive_indexes = gso_boruta_select(X, y)\n",
    "print(f\"Selected Features (total={n_features}, informative=[0,{n_informative-1}]):\")\n",
    "print(selected_indexes)"
   ]
  },
  {
   "cell_type": "markdown",
   "id": "b74fbea0",
   "metadata": {},
   "source": [
    "Which gives the informative/noise classification report below."
   ]
  },
  {
   "cell_type": "code",
   "execution_count": 31,
   "id": "188411eb",
   "metadata": {},
   "outputs": [
    {
     "name": "stdout",
     "output_type": "stream",
     "text": [
      "              precision    recall  f1-score   support\n",
      "\n",
      "       NOISE     0.9524    1.0000    0.9756        40\n",
      " INFORMATIVE     1.0000    0.8000    0.8889        10\n",
      "\n",
      "    accuracy                         0.9600        50\n",
      "   macro avg     0.9762    0.9000    0.9322        50\n",
      "weighted avg     0.9619    0.9600    0.9583        50\n",
      "\n"
     ]
    }
   ],
   "source": [
    "informative_true = np.array([False]*n_features)\n",
    "informative_true[0:n_informative] = True\n",
    "informative_pred = np.array([False]*n_features)\n",
    "informative_pred[selected_indexes] = True\n",
    "print(classification_report(informative_true, informative_pred, target_names=['NOISE', 'INFORMATIVE'], digits=4))"
   ]
  },
  {
   "cell_type": "code",
   "execution_count": null,
   "id": "da33d779",
   "metadata": {},
   "outputs": [],
   "source": []
  }
 ],
 "metadata": {
  "kernelspec": {
   "display_name": "Python 3 (ipykernel)",
   "language": "python",
   "name": "python3"
  },
  "language_info": {
   "codemirror_mode": {
    "name": "ipython",
    "version": 3
   },
   "file_extension": ".py",
   "mimetype": "text/x-python",
   "name": "python",
   "nbconvert_exporter": "python",
   "pygments_lexer": "ipython3",
   "version": "3.11.2"
  }
 },
 "nbformat": 4,
 "nbformat_minor": 5
}
